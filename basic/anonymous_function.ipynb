{
 "cells": [
  {
   "cell_type": "code",
   "execution_count": 5,
   "id": "1f4e17b0-974a-4b40-976b-24eb7c3939a1",
   "metadata": {},
   "outputs": [],
   "source": [
    "import sys\n",
    "sys.path.append('../')"
   ]
  },
  {
   "cell_type": "markdown",
   "id": "7f35c7d1-d4de-4224-8290-7f392544147f",
   "metadata": {},
   "source": [
    "### 匿名函数\n",
    "匿名函数的格式\n",
    "```python\n",
    "lambda argument1, argument2, ... argumentN: expression\n",
    "```\n",
    "### 需要注意的几点\n",
    "1. lambda是一个表达式(expression)，而不是一个语句(statement)"
   ]
  },
  {
   "cell_type": "code",
   "execution_count": 4,
   "id": "9d9b7742-3e7d-4f83-a8da-11b662bde7ea",
   "metadata": {},
   "outputs": [
    {
     "name": "stdout",
     "output_type": "stream",
     "text": [
      "[(2, -1), (3, 0), (9, 10), (1, 20)]\n"
     ]
    }
   ],
   "source": [
    "l = [(1, 20), (3, 0), (9, 10), (2, -1)]\n",
    "l.sort(key=lambda x: x[1], reverse=False) # 按列表中元组的第二个元素排序\n",
    "print(l)"
   ]
  },
  {
   "cell_type": "markdown",
   "id": "ac55e754-7df2-4a50-ae08-ca512c5ba660",
   "metadata": {},
   "source": [
    "2. lamda的主体是只有一行的简单表达式，并不能扩展成一个多行的代码块"
   ]
  },
  {
   "cell_type": "code",
   "execution_count": 9,
   "id": "4fa5af44-043e-48d7-9b5b-8caa1922f9f7",
   "metadata": {},
   "outputs": [
    {
     "name": "stdout",
     "output_type": "stream",
     "text": [
      "1\n",
      "4\n",
      "9\n",
      "16\n",
      "25\n"
     ]
    }
   ],
   "source": [
    "# 匿名函数法\n",
    "squared = map(lambda x: x**2, [1, 2, 3, 4, 5])\n",
    "for m in squared:\n",
    "    print(m)"
   ]
  },
  {
   "cell_type": "markdown",
   "id": "287c9361-24a9-43c8-8077-688ab552533a",
   "metadata": {},
   "source": [
    "函数map(function, iterable)的第一个参数是函数对象，第二个参数是一个可以遍历的集合，它表示对iterable的每一个元素都运用function这个函数。\n",
    "map()很快，因为map()函数时直接由C语言写的，运行时不需要通过Python解释器间接调用"
   ]
  },
  {
   "cell_type": "markdown",
   "id": "8633b92b-2caa-47da-9987-f94510ff64f7",
   "metadata": {},
   "source": [
    "filter(function, iterable)和map函数类似，function同样表示一个函数对象，filter()函数表示对iterable中的每个元素，都使用function判断并返回True或者False，最后将返回True的元素组成一个**新的可遍历的集合**"
   ]
  },
  {
   "cell_type": "code",
   "execution_count": 3,
   "id": "af81a228-2c9a-4ecb-b095-a2fbd7fbd410",
   "metadata": {},
   "outputs": [
    {
     "name": "stdout",
     "output_type": "stream",
     "text": [
      "2\n",
      "4\n"
     ]
    }
   ],
   "source": [
    "l = [1, 2, 3, 4, 5]\n",
    "new_list = filter(lambda x: x % 2 == 0, l)\n",
    "for x in new_list:\n",
    "    print(x)"
   ]
  },
  {
   "cell_type": "markdown",
   "id": "d01bec08-ac37-4d61-ad6e-611f9929bd36",
   "metadata": {},
   "source": [
    "reduce(function, iterable)函数，它通常用来对一个集合做一些累积操作"
   ]
  },
  {
   "cell_type": "code",
   "execution_count": 8,
   "id": "3f9539a4-890d-4e01-b719-b375eb15abcc",
   "metadata": {},
   "outputs": [
    {
     "data": {
      "text/plain": [
       "int"
      ]
     },
     "execution_count": 8,
     "metadata": {},
     "output_type": "execute_result"
    }
   ],
   "source": [
    "from functools import reduce  # 自Python3后，reduce从全局ming'ming\n",
    "l = [1, 2, 3, 4, 5]\n",
    "product = reduce(lambda x, y: x * y, l)"
   ]
  },
  {
   "cell_type": "markdown",
   "id": "3f6c6431-e4a7-4dc1-aadb-ccd5eb7c88e2",
   "metadata": {},
   "source": [
    "### 思考题\n",
    "如果让你对一个字典，根据值进行由高到底的排序，该怎么做呢？以下面这段代码为例，你可以思考一下。"
   ]
  },
  {
   "cell_type": "code",
   "execution_count": 1,
   "id": "e99518d4-8930-4683-b858-ba456c6fdced",
   "metadata": {},
   "outputs": [
    {
     "data": {
      "text/plain": [
       "[('lucy', 2), ('mike', 10), ('ben', 30)]"
      ]
     },
     "execution_count": 1,
     "metadata": {},
     "output_type": "execute_result"
    }
   ],
   "source": [
    "d = {'mike': 10, 'lucy': 2, 'ben': 30}\n",
    "d_sort = sorted(d.items(), key=lambda x: x[1])\n",
    "d_sort"
   ]
  }
 ],
 "metadata": {
  "kernelspec": {
   "display_name": "Python 3 (ipykernel)",
   "language": "python",
   "name": "python3"
  },
  "language_info": {
   "codemirror_mode": {
    "name": "ipython",
    "version": 3
   },
   "file_extension": ".py",
   "mimetype": "text/x-python",
   "name": "python",
   "nbconvert_exporter": "python",
   "pygments_lexer": "ipython3",
   "version": "3.7.10"
  }
 },
 "nbformat": 4,
 "nbformat_minor": 5
}
