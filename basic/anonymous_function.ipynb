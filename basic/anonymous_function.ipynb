{
 "cells": [
  {
   "cell_type": "markdown",
   "id": "7f35c7d1-d4de-4224-8290-7f392544147f",
   "metadata": {},
   "source": [
    "### 匿名函数\n",
    "匿名函数的格式\n",
    "```python\n",
    "lambda argument1, argument2, ... argumentN: expression\n",
    "```\n",
    "### 需要注意的几点\n",
    "1. lambda是一个表达式(expression)，而不是一个语句(statement)"
   ]
  },
  {
   "cell_type": "code",
   "execution_count": 4,
   "id": "9d9b7742-3e7d-4f83-a8da-11b662bde7ea",
   "metadata": {},
   "outputs": [
    {
     "name": "stdout",
     "output_type": "stream",
     "text": [
      "[(2, -1), (3, 0), (9, 10), (1, 20)]\n"
     ]
    }
   ],
   "source": [
    "l = [(1, 20), (3, 0), (9, 10), (2, -1)]\n",
    "l.sort(key=lambda x: x[1], reverse=False) # 按列表中元组的第二个元素排序\n",
    "print(l)"
   ]
  },
  {
   "cell_type": "markdown",
   "id": "ac55e754-7df2-4a50-ae08-ca512c5ba660",
   "metadata": {},
   "source": [
    "2. lamda的主体是只有一行的简单表达式，并不能扩展成一个多行的代码块"
   ]
  },
  {
   "cell_type": "code",
   "execution_count": 9,
   "id": "4fa5af44-043e-48d7-9b5b-8caa1922f9f7",
   "metadata": {},
   "outputs": [
    {
     "name": "stdout",
     "output_type": "stream",
     "text": [
      "1\n",
      "4\n",
      "9\n",
      "16\n",
      "25\n"
     ]
    }
   ],
   "source": [
    "# 匿名函数法\n",
    "squared = map(lambda x: x**2, [1, 2, 3, 4, 5])\n",
    "for m in squared:\n",
    "    print(m)"
   ]
  },
  {
   "cell_type": "markdown",
   "id": "287c9361-24a9-43c8-8077-688ab552533a",
   "metadata": {},
   "source": [
    "函数map(function, iterable)的第一个参数是函数对象，第二个参数是一个可以遍历的集合，它表示对iterable的每一个元素都运用function这个函数。"
   ]
  }
 ],
 "metadata": {
  "kernelspec": {
   "display_name": "Python 3 (ipykernel)",
   "language": "python",
   "name": "python3"
  },
  "language_info": {
   "codemirror_mode": {
    "name": "ipython",
    "version": 3
   },
   "file_extension": ".py",
   "mimetype": "text/x-python",
   "name": "python",
   "nbconvert_exporter": "python",
   "pygments_lexer": "ipython3",
   "version": "3.7.10"
  }
 },
 "nbformat": 4,
 "nbformat_minor": 5
}
