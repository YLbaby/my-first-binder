{
 "cells": [
  {
   "cell_type": "markdown",
   "id": "ce6b1362-1c28-4da4-bcfd-e3c8db0e7148",
   "metadata": {
    "tags": []
   },
   "source": [
    "和其他需要**编译**的语言相比，Python中的def是可执行语句，这意味着函数直到被调用前，都是不存在的。当程序调用函数时，def语句才会创建一个新的函数对象，并赋予其名字"
   ]
  },
  {
   "cell_type": "code",
   "execution_count": 2,
   "id": "ec98c169-0f34-4c39-946a-5be278409066",
   "metadata": {
    "tags": []
   },
   "outputs": [
    {
     "name": "stdout",
     "output_type": "stream",
     "text": [
      "largest element is: 10\n"
     ]
    }
   ],
   "source": [
    "def find_largest_element(l):\n",
    "    if not isinstance(l, list):\n",
    "        print('input is not type of list')\n",
    "        return\n",
    "    if len(l) == 0:\n",
    "        print('empty input')\n",
    "        return\n",
    "    largest_element = l[0]\n",
    "    for item in l:\n",
    "        if item > largest_element:\n",
    "            largest_element = item\n",
    "    print('largest element is: {}'.format(largest_element))\n",
    "\n",
    "find_largest_element([1, -1, 2, 4, 0, 10])"
   ]
  },
  {
   "cell_type": "markdown",
   "id": "b03209f3-b568-4e7a-b9ea-91b694033b05",
   "metadata": {},
   "source": [
    "### Python函数的特性"
   ]
  },
  {
   "cell_type": "markdown",
   "id": "0e77855b-7aec-4636-9ff1-bed1f6516867",
   "metadata": {},
   "source": [
    "1.多态"
   ]
  },
  {
   "cell_type": "code",
   "execution_count": 7,
   "id": "01af24df-0c72-4157-a285-ab8e55b8164a",
   "metadata": {},
   "outputs": [],
   "source": [
    "def my_sum(a, b):\n",
    "    return a + b"
   ]
  },
  {
   "cell_type": "code",
   "execution_count": 8,
   "id": "7df76e09-6095-4e11-872f-0d7aa1721c4e",
   "metadata": {},
   "outputs": [
    {
     "data": {
      "text/plain": [
       "8"
      ]
     },
     "execution_count": 8,
     "metadata": {},
     "output_type": "execute_result"
    }
   ],
   "source": [
    "# 当传入整数时\n",
    "my_sum(3, 5)"
   ]
  },
  {
   "cell_type": "code",
   "execution_count": 9,
   "id": "33e696c5-df22-43b7-ac9a-b1cd374b407b",
   "metadata": {},
   "outputs": [
    {
     "data": {
      "text/plain": [
       "[1, 2, 3, 4]"
      ]
     },
     "execution_count": 9,
     "metadata": {},
     "output_type": "execute_result"
    }
   ],
   "source": [
    "# 传入其他类型，如列表时\n",
    "my_sum([1, 2], [3, 4])"
   ]
  },
  {
   "cell_type": "code",
   "execution_count": null,
   "id": "1ac0f4aa-77e7-4c11-b501-cd7df160530d",
   "metadata": {},
   "outputs": [],
   "source": []
  }
 ],
 "metadata": {
  "kernelspec": {
   "display_name": "Python 3 (ipykernel)",
   "language": "python",
   "name": "python3"
  },
  "language_info": {
   "codemirror_mode": {
    "name": "ipython",
    "version": 3
   },
   "file_extension": ".py",
   "mimetype": "text/x-python",
   "name": "python",
   "nbconvert_exporter": "python",
   "pygments_lexer": "ipython3",
   "version": "3.7.10"
  }
 },
 "nbformat": 4,
 "nbformat_minor": 5
}
