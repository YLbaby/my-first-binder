{
 "cells": [
  {
   "cell_type": "markdown",
   "id": "ce6b1362-1c28-4da4-bcfd-e3c8db0e7148",
   "metadata": {
    "tags": []
   },
   "source": [
    "和其他需要**编译**的语言相比，Python中的def是可执行语句，这意味着函数直到被调用前，都是不存在的。当程序调用函数时，def语句才会创建一个新的函数对象，并赋予其名字"
   ]
  },
  {
   "cell_type": "code",
   "execution_count": 2,
   "id": "ec98c169-0f34-4c39-946a-5be278409066",
   "metadata": {
    "tags": []
   },
   "outputs": [
    {
     "name": "stdout",
     "output_type": "stream",
     "text": [
      "largest element is: 10\n"
     ]
    }
   ],
   "source": [
    "def find_largest_element(l):\n",
    "    if not isinstance(l, list):\n",
    "        print('input is not type of list')\n",
    "        return\n",
    "    if len(l) == 0:\n",
    "        print('empty input')\n",
    "        return\n",
    "    largest_element = l[0]\n",
    "    for item in l:\n",
    "        if item > largest_element:\n",
    "            largest_element = item\n",
    "    print('largest element is: {}'.format(largest_element))\n",
    "\n",
    "find_largest_element([1, -1, 2, 4, 0, 10])"
   ]
  },
  {
   "cell_type": "markdown",
   "id": "b03209f3-b568-4e7a-b9ea-91b694033b05",
   "metadata": {},
   "source": [
    "### Python函数的特性"
   ]
  },
  {
   "cell_type": "markdown",
   "id": "0e77855b-7aec-4636-9ff1-bed1f6516867",
   "metadata": {},
   "source": [
    "1.多态"
   ]
  },
  {
   "cell_type": "code",
   "execution_count": 7,
   "id": "01af24df-0c72-4157-a285-ab8e55b8164a",
   "metadata": {},
   "outputs": [],
   "source": [
    "def my_sum(a, b):\n",
    "    return a + b"
   ]
  },
  {
   "cell_type": "code",
   "execution_count": 8,
   "id": "7df76e09-6095-4e11-872f-0d7aa1721c4e",
   "metadata": {},
   "outputs": [
    {
     "data": {
      "text/plain": [
       "8"
      ]
     },
     "execution_count": 8,
     "metadata": {},
     "output_type": "execute_result"
    }
   ],
   "source": [
    "# 当传入整数时\n",
    "my_sum(3, 5)"
   ]
  },
  {
   "cell_type": "code",
   "execution_count": 9,
   "id": "33e696c5-df22-43b7-ac9a-b1cd374b407b",
   "metadata": {},
   "outputs": [
    {
     "data": {
      "text/plain": [
       "[1, 2, 3, 4]"
      ]
     },
     "execution_count": 9,
     "metadata": {},
     "output_type": "execute_result"
    }
   ],
   "source": [
    "# 传入其他类型，如列表时\n",
    "my_sum([1, 2], [3, 4])"
   ]
  },
  {
   "cell_type": "code",
   "execution_count": 8,
   "id": "1ac0f4aa-77e7-4c11-b501-cd7df160530d",
   "metadata": {},
   "outputs": [
    {
     "ename": "AttributeError",
     "evalue": "'dict' object has no attribute 'enumerate'",
     "output_type": "error",
     "traceback": [
      "\u001b[0;31m---------------------------------------------------------------------------\u001b[0m",
      "\u001b[0;31mAttributeError\u001b[0m                            Traceback (most recent call last)",
      "\u001b[0;32m/tmp/ipykernel_100/1926461470.py\u001b[0m in \u001b[0;36m<module>\u001b[0;34m\u001b[0m\n\u001b[1;32m      1\u001b[0m \u001b[0ml\u001b[0m \u001b[0;34m=\u001b[0m \u001b[0;34m{\u001b[0m\u001b[0;34m'name'\u001b[0m\u001b[0;34m:\u001b[0m \u001b[0;34m'lyl'\u001b[0m\u001b[0;34m,\u001b[0m \u001b[0;34m'age'\u001b[0m\u001b[0;34m:\u001b[0m \u001b[0;36m18\u001b[0m\u001b[0;34m,\u001b[0m \u001b[0;34m'gender'\u001b[0m\u001b[0;34m:\u001b[0m \u001b[0;34m'male'\u001b[0m\u001b[0;34m}\u001b[0m\u001b[0;34m\u001b[0m\u001b[0;34m\u001b[0m\u001b[0m\n\u001b[0;32m----> 2\u001b[0;31m \u001b[0ml\u001b[0m\u001b[0;34m.\u001b[0m\u001b[0menumerate\u001b[0m\u001b[0;34m(\u001b[0m\u001b[0;34m)\u001b[0m\u001b[0;34m\u001b[0m\u001b[0;34m\u001b[0m\u001b[0m\n\u001b[0m",
      "\u001b[0;31mAttributeError\u001b[0m: 'dict' object has no attribute 'enumerate'"
     ]
    }
   ],
   "source": [
    "l = {'name': 'lyl', 'age': 18, 'gender': 'male'}\n",
    "l.enumerate()"
   ]
  },
  {
   "cell_type": "markdown",
   "id": "28034d78-3014-4d96-b4ae-be6cd69c3ac1",
   "metadata": {},
   "source": [
    "### 函数的嵌套\n",
    "1. 保证内部函数的隐私\n",
    "```python\n",
    "def connect_DB():\n",
    "    def get_DB_configuration():\n",
    "        ...\n",
    "        return host, username, password\n",
    "    conn = connector.connect(get_DB_configuration())\n",
    "    return conn\n",
    "```\n",
    "2. 提高程序的运行效率\n",
    "```python\n",
    "def factorial(input):\n",
    "    # validation check\n",
    "    if not isinstance(input, in):\n",
    "        raise Exception('input must be an integer')\n",
    "    if input < 0:\n",
    "        raise Exception('input must be greater or equal to 0')\n",
    "    \n",
    "    def inner_factorial(input):\n",
    "        if input <= 1:\n",
    "            return 1\n",
    "        return input * inner_factorial(input - 1)\n",
    "    return inner_factorial(input)\n",
    "```"
   ]
  },
  {
   "cell_type": "markdown",
   "id": "396db7f1-a0ce-437a-91fc-14c143853f5d",
   "metadata": {},
   "source": [
    "### 函数变量作用域"
   ]
  },
  {
   "cell_type": "markdown",
   "id": "73d92d0b-4d64-46a2-9a34-afebd83cbe3e",
   "metadata": {},
   "source": [
    "如果变量在函数内部定义，就成为局部变量，只在函数内部有效。一旦函数执行完毕，局部变量就会失效\n",
    "相应地，全局变量则是定义在整个文件层次上的"
   ]
  },
  {
   "cell_type": "code",
   "execution_count": 2,
   "id": "364ebd82-130c-44b3-8358-e799d68b8a39",
   "metadata": {},
   "outputs": [],
   "source": [
    "MIN_VALUE = 1\n",
    "MAX_VALUE = 10\n",
    "def validation_check(value):\n",
    "    if value < MIN_VALUE or value > MAX_VALUE:\n",
    "        raise Exception('validation check fails')"
   ]
  },
  {
   "cell_type": "markdown",
   "id": "d80bfae1-49fd-4c7d-8fd8-e16aba2c8fc7",
   "metadata": {},
   "source": [
    "不能在函数内部随意改变全局变量的值，如果一定要在函数内部改变全局变量的值，就必须加上global这个声明\n",
    "类似的，对于嵌套函数来说，内部函数可以访问外部函数定义的变量，但是无法修改，若要修改，必须加上nonlocal这个关键字"
   ]
  },
  {
   "cell_type": "code",
   "execution_count": 3,
   "id": "4df3b65c-54c8-4f2b-b029-229cae863ecf",
   "metadata": {},
   "outputs": [
    {
     "name": "stdout",
     "output_type": "stream",
     "text": [
      "inner: nonlocal\n",
      "outer: nonlocal\n"
     ]
    }
   ],
   "source": [
    "def outer():\n",
    "    x = 'local'\n",
    "    def inner():\n",
    "        nonlocal x # nonlocal关键字表示这里的x就是外部函数outer定义的变量x\n",
    "        x = 'nonlocal'\n",
    "        print('inner:', x)\n",
    "    inner()\n",
    "    print('outer:', x)\n",
    "outer()"
   ]
  },
  {
   "cell_type": "markdown",
   "id": "349cf56c-5b92-4535-9977-16b293772164",
   "metadata": {},
   "source": [
    "### 闭包"
   ]
  },
  {
   "cell_type": "code",
   "execution_count": null,
   "id": "dc8ff8ec-4580-45b1-aae7-eceab966be83",
   "metadata": {},
   "outputs": [],
   "source": []
  }
 ],
 "metadata": {
  "kernelspec": {
   "display_name": "Python 3 (ipykernel)",
   "language": "python",
   "name": "python3"
  },
  "language_info": {
   "codemirror_mode": {
    "name": "ipython",
    "version": 3
   },
   "file_extension": ".py",
   "mimetype": "text/x-python",
   "name": "python",
   "nbconvert_exporter": "python",
   "pygments_lexer": "ipython3",
   "version": "3.7.10"
  }
 },
 "nbformat": 4,
 "nbformat_minor": 5
}
