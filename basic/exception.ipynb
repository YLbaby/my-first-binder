{
 "cells": [
  {
   "cell_type": "markdown",
   "id": "4d5ae9d5-e876-4442-a329-c366a4dcc5be",
   "metadata": {},
   "source": [
    "通常来说，程序中的错误至少包括两种，一种是语法错误，另一种则是异常。\n",
    "如果执行到程序中某处抛出了异常，程序就会被终止并退出"
   ]
  },
  {
   "cell_type": "markdown",
   "id": "9b7be409-58d4-4498-822d-ef774158e5b4",
   "metadata": {},
   "source": [
    "### 用户自定义异常"
   ]
  },
  {
   "cell_type": "code",
   "execution_count": 1,
   "id": "db7c504c-fb0f-4c50-a461-f264803c5765",
   "metadata": {},
   "outputs": [
    {
     "name": "stdout",
     "output_type": "stream",
     "text": [
      "error:1 is invalid input\n"
     ]
    }
   ],
   "source": [
    "class MyInputError(Exception):\n",
    "    '''\n",
    "    Exception raised when there're errors in input\n",
    "    '''\n",
    "    def __init__(self, value):\n",
    "        self.value = value\n",
    "    def __str__(self): # 自定义异常类型的string表达式\n",
    "        return ('{} is invalid input'.format(repr(self.value)))\n",
    "\n",
    "try:\n",
    "    raise MyInputError(1) # 抛出 MyInputError 异常\n",
    "except MyInputError as err:\n",
    "    print('error:{}'.format(err))"
   ]
  },
  {
   "cell_type": "code",
   "execution_count": 4,
   "id": "6c1413d7-834e-4787-b4d3-625abef05a10",
   "metadata": {},
   "outputs": [
    {
     "data": {
      "text/plain": [
       "str"
      ]
     },
     "execution_count": 4,
     "metadata": {},
     "output_type": "execute_result"
    }
   ],
   "source": [
    "type(repr(1))"
   ]
  },
  {
   "cell_type": "code",
   "execution_count": null,
   "id": "01ebff24-58be-49a3-a3a9-9193d40e7bb9",
   "metadata": {},
   "outputs": [],
   "source": []
  }
 ],
 "metadata": {
  "kernelspec": {
   "display_name": "Python 3 (ipykernel)",
   "language": "python",
   "name": "python3"
  },
  "language_info": {
   "codemirror_mode": {
    "name": "ipython",
    "version": 3
   },
   "file_extension": ".py",
   "mimetype": "text/x-python",
   "name": "python",
   "nbconvert_exporter": "python",
   "pygments_lexer": "ipython3",
   "version": "3.7.10"
  }
 },
 "nbformat": 4,
 "nbformat_minor": 5
}
