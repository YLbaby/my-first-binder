{
 "cells": [
  {
   "cell_type": "code",
   "execution_count": 1,
   "id": "2848aa13-66cc-4d2e-9751-7ccb550d6b8c",
   "metadata": {},
   "outputs": [
    {
     "data": {
      "text/plain": [
       "'j'"
      ]
     },
     "execution_count": 1,
     "metadata": {},
     "output_type": "execute_result"
    }
   ],
   "source": [
    "name = 'jason'\n",
    "name[0]"
   ]
  },
  {
   "cell_type": "code",
   "execution_count": 2,
   "id": "ff1a42f7-4739-4754-bc85-446663104709",
   "metadata": {},
   "outputs": [
    {
     "data": {
      "text/plain": [
       "'as'"
      ]
     },
     "execution_count": 2,
     "metadata": {},
     "output_type": "execute_result"
    }
   ],
   "source": [
    "name[1:3]"
   ]
  },
  {
   "cell_type": "code",
   "execution_count": 3,
   "id": "81bbf82c-87e3-4344-8628-48be19adf197",
   "metadata": {},
   "outputs": [
    {
     "name": "stdout",
     "output_type": "stream",
     "text": [
      "j\n",
      "a\n",
      "s\n",
      "o\n",
      "n\n"
     ]
    }
   ],
   "source": [
    "for char in name:\n",
    "    print(char)"
   ]
  },
  {
   "cell_type": "code",
   "execution_count": 4,
   "id": "42d1d223-e003-4b14-bda6-3ab67d8071cb",
   "metadata": {},
   "outputs": [
    {
     "ename": "TypeError",
     "evalue": "'str' object does not support item assignment",
     "output_type": "error",
     "traceback": [
      "\u001b[0;31m---------------------------------------------------------------------------\u001b[0m",
      "\u001b[0;31mTypeError\u001b[0m                                 Traceback (most recent call last)",
      "\u001b[0;32m/tmp/ipykernel_117/905048650.py\u001b[0m in \u001b[0;36m<module>\u001b[0;34m\u001b[0m\n\u001b[1;32m      1\u001b[0m \u001b[0;31m# Python的字符串不可改变(immutable)\u001b[0m\u001b[0;34m\u001b[0m\u001b[0;34m\u001b[0m\u001b[0;34m\u001b[0m\u001b[0m\n\u001b[1;32m      2\u001b[0m \u001b[0ms\u001b[0m \u001b[0;34m=\u001b[0m \u001b[0;34m'hello'\u001b[0m\u001b[0;34m\u001b[0m\u001b[0;34m\u001b[0m\u001b[0m\n\u001b[0;32m----> 3\u001b[0;31m \u001b[0ms\u001b[0m\u001b[0;34m[\u001b[0m\u001b[0;36m0\u001b[0m\u001b[0;34m]\u001b[0m \u001b[0;34m=\u001b[0m \u001b[0;34m'H'\u001b[0m\u001b[0;34m\u001b[0m\u001b[0;34m\u001b[0m\u001b[0m\n\u001b[0m",
      "\u001b[0;31mTypeError\u001b[0m: 'str' object does not support item assignment"
     ]
    }
   ],
   "source": [
    "# Python的字符串不可改变(immutable)\n",
    "s = 'hello'\n",
    "s[0] = 'H'"
   ]
  },
  {
   "cell_type": "code",
   "execution_count": 5,
   "id": "3068010a-9e6a-46fd-b36e-5754a0ffb602",
   "metadata": {},
   "outputs": [
    {
     "data": {
      "text/plain": [
       "'Hello'"
      ]
     },
     "execution_count": 5,
     "metadata": {},
     "output_type": "execute_result"
    }
   ],
   "source": [
    "s = 'H' + s[1:]\n",
    "s"
   ]
  },
  {
   "cell_type": "code",
   "execution_count": 7,
   "id": "5ec05784-a332-4626-a67f-a156bb4f0fcd",
   "metadata": {},
   "outputs": [
    {
     "data": {
      "text/plain": [
       "'Hello'"
      ]
     },
     "execution_count": 7,
     "metadata": {},
     "output_type": "execute_result"
    }
   ],
   "source": [
    "s = s.replace('h', 'H')\n",
    "s"
   ]
  },
  {
   "cell_type": "markdown",
   "id": "851b98c5-8d74-4365-a3f2-4a3362c9030c",
   "metadata": {},
   "source": [
    "\"+=\"可以用来字符串拼接，Python 2.5优化后无需再担心效率问题"
   ]
  },
  {
   "cell_type": "code",
   "execution_count": 11,
   "id": "dbc70cd8-6010-4ec0-8b2e-bde2d23b5142",
   "metadata": {},
   "outputs": [
    {
     "data": {
      "text/plain": [
       "'0123456789'"
      ]
     },
     "execution_count": 11,
     "metadata": {},
     "output_type": "execute_result"
    }
   ],
   "source": [
    "s = ''\n",
    "for n in range(0, 10):\n",
    "    s += str(n)\n",
    "s"
   ]
  },
  {
   "cell_type": "markdown",
   "id": "cfd2a4f6-5dee-47a1-abe5-763578cb6f20",
   "metadata": {},
   "source": [
    "使用字符串内置函数join来拼接  string.join(iterable)"
   ]
  },
  {
   "cell_type": "code",
   "execution_count": 14,
   "id": "18e268d9-17dc-4c8e-b7b3-3f9735ccae5c",
   "metadata": {},
   "outputs": [
    {
     "data": {
      "text/plain": [
       "'0 1 2 3 4 5 6 7 8 9'"
      ]
     },
     "execution_count": 14,
     "metadata": {},
     "output_type": "execute_result"
    }
   ],
   "source": [
    "l = []\n",
    "for n in range(0, 10):\n",
    "    l.append(str(n))   # list的append操作是O(1)复杂度\n",
    "l = ' '.join(l)\n",
    "l"
   ]
  },
  {
   "cell_type": "markdown",
   "id": "b2fd58f3-1469-4f3d-b2c0-c01a2b0fa3ce",
   "metadata": {},
   "source": [
    "string.split(separator) 把字符串按照separator分割成子字符串，并返回一个分割后子字符串组合的**列表**"
   ]
  },
  {
   "cell_type": "code",
   "execution_count": 15,
   "id": "73074c6f-6a1a-4df2-a294-525c36ac7aa5",
   "metadata": {},
   "outputs": [
    {
     "data": {
      "text/plain": [
       "'ads'"
      ]
     },
     "execution_count": 15,
     "metadata": {},
     "output_type": "execute_result"
    }
   ],
   "source": [
    "path = 'hive://ads/training_table'\n",
    "namespace = path.split('//')[1].split('/')[0]  # 返回'ads'\n",
    "namespace"
   ]
  },
  {
   "cell_type": "markdown",
   "id": "b6d3844c-5a4e-4b45-a381-7bb7b7b89950",
   "metadata": {},
   "source": [
    "常见的函数还有：\n",
    "string.strip(str)\n",
    "string.lstrip(str)\n",
    "string.rstrip(str)"
   ]
  },
  {
   "cell_type": "code",
   "execution_count": 6,
   "id": "46f48baf-66a0-4ad7-87ca-5d02077f4bbc",
   "metadata": {},
   "outputs": [
    {
     "data": {
      "text/plain": [
       "'my name is jason'"
      ]
     },
     "execution_count": 6,
     "metadata": {},
     "output_type": "execute_result"
    }
   ],
   "source": [
    "s = '   my name is jason  '\n",
    "# 去掉首尾的空格\n",
    "s.strip()"
   ]
  },
  {
   "cell_type": "markdown",
   "id": "fb4ce185-f6a0-479b-888f-806fab919f36",
   "metadata": {},
   "source": [
    "字符串的格式化，常常用在输出、日志的记录等场景"
   ]
  },
  {
   "cell_type": "code",
   "execution_count": 10,
   "id": "081610a9-d4e6-42d8-9444-1a170084fe7f",
   "metadata": {},
   "outputs": [
    {
     "name": "stdout",
     "output_type": "stream",
     "text": [
      "no data available for person with id: 3, name: lyl\n"
     ]
    }
   ],
   "source": [
    "print('no data available for person with id: {}, name: {}'.format(3, 'lyl'))"
   ]
  },
  {
   "cell_type": "code",
   "execution_count": null,
   "id": "40849c7e-d263-4255-9f82-6794d7e53455",
   "metadata": {},
   "outputs": [],
   "source": []
  }
 ],
 "metadata": {
  "kernelspec": {
   "display_name": "Python 3 (ipykernel)",
   "language": "python",
   "name": "python3"
  },
  "language_info": {
   "codemirror_mode": {
    "name": "ipython",
    "version": 3
   },
   "file_extension": ".py",
   "mimetype": "text/x-python",
   "name": "python",
   "nbconvert_exporter": "python",
   "pygments_lexer": "ipython3",
   "version": "3.7.10"
  }
 },
 "nbformat": 4,
 "nbformat_minor": 5
}
