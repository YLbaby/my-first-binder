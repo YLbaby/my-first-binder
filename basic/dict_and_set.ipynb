{
 "cells": [
  {
   "cell_type": "markdown",
   "id": "34c3f494-b037-4fca-847d-814b18a9164f",
   "metadata": {},
   "source": [
    "# 字典和集合"
   ]
  },
  {
   "cell_type": "markdown",
   "id": "2c79e8f2-76fa-4021-a26f-dc8f319dbead",
   "metadata": {},
   "source": [
    "### 1.字典和集合的创建"
   ]
  },
  {
   "cell_type": "code",
   "execution_count": 4,
   "id": "973169bc-4fe3-40d3-8dd2-6286e00c231e",
   "metadata": {},
   "outputs": [
    {
     "data": {
      "text/plain": [
       "True"
      ]
     },
     "execution_count": 4,
     "metadata": {},
     "output_type": "execute_result"
    }
   ],
   "source": [
    "d1 = {'name': 'liyilong', 'age': 20, 'gender': 'male'}\n",
    "d2 = dict({'name': 'liyilong', 'age': 20, 'gender': 'male'})\n",
    "d3 = dict([('name', 'liyilong'), ('age', 20), ('gender', 'male')])\n",
    "d4 = dict(name='liyilong', age=20, gender='male')\n",
    "d1 == d2 == d3 == d4"
   ]
  },
  {
   "cell_type": "code",
   "execution_count": 5,
   "id": "55c059ac-c4e0-46bf-8a47-9348220fae92",
   "metadata": {},
   "outputs": [
    {
     "data": {
      "text/plain": [
       "True"
      ]
     },
     "execution_count": 5,
     "metadata": {},
     "output_type": "execute_result"
    }
   ],
   "source": [
    "s1 = {1, 2, 3}\n",
    "s2 = set([1, 2, 3])\n",
    "s1 == s2"
   ]
  },
  {
   "cell_type": "code",
   "execution_count": 6,
   "id": "41b99f7c-305a-47db-97ce-c7ad9ce1fdab",
   "metadata": {},
   "outputs": [],
   "source": [
    "s = {1, 'hello', 5.0}"
   ]
  },
  {
   "cell_type": "code",
   "execution_count": 8,
   "id": "020874e3-4787-45ea-a924-c97ecb3f71a0",
   "metadata": {},
   "outputs": [
    {
     "data": {
      "text/plain": [
       "'lixiaodong'"
      ]
     },
     "execution_count": 8,
     "metadata": {},
     "output_type": "execute_result"
    }
   ],
   "source": [
    "d = {'name': 'lixiaodong', 'age': 20}\n",
    "d['name']"
   ]
  },
  {
   "cell_type": "code",
   "execution_count": 10,
   "id": "7f64cb0d-98d5-4192-bf5a-634ad87cacfb",
   "metadata": {},
   "outputs": [
    {
     "data": {
      "text/plain": [
       "'null'"
      ]
     },
     "execution_count": 10,
     "metadata": {},
     "output_type": "execute_result"
    }
   ],
   "source": [
    "# 字典也可以使用get(key, default)函数来进行索引\n",
    "d.get('location', 'null')"
   ]
  },
  {
   "cell_type": "markdown",
   "id": "23929911-5d9a-48f8-90dd-d68803e0cf05",
   "metadata": {},
   "source": [
    "集合并不支持索引操作，因为集合本质上是一个**哈希表**，和列表不一样。\n",
    "判断一个元素在不在字典或集合内，可以使用value in dict/set来判断"
   ]
  },
  {
   "cell_type": "code",
   "execution_count": 11,
   "id": "a62b271b-9ade-41d6-a285-195e90a0b25b",
   "metadata": {},
   "outputs": [
    {
     "ename": "TypeError",
     "evalue": "'set' object is not subscriptable",
     "output_type": "error",
     "traceback": [
      "\u001b[0;31m---------------------------------------------------------------------------\u001b[0m",
      "\u001b[0;31mTypeError\u001b[0m                                 Traceback (most recent call last)",
      "\u001b[0;32m/tmp/ipykernel_81/3287493502.py\u001b[0m in \u001b[0;36m<module>\u001b[0;34m\u001b[0m\n\u001b[1;32m      1\u001b[0m \u001b[0ms\u001b[0m \u001b[0;34m=\u001b[0m \u001b[0;34m{\u001b[0m\u001b[0;36m1\u001b[0m\u001b[0;34m,\u001b[0m \u001b[0;36m2\u001b[0m\u001b[0;34m,\u001b[0m \u001b[0;36m3\u001b[0m\u001b[0;34m}\u001b[0m\u001b[0;34m\u001b[0m\u001b[0;34m\u001b[0m\u001b[0m\n\u001b[0;32m----> 2\u001b[0;31m \u001b[0ms\u001b[0m\u001b[0;34m[\u001b[0m\u001b[0;36m0\u001b[0m\u001b[0;34m]\u001b[0m\u001b[0;34m\u001b[0m\u001b[0;34m\u001b[0m\u001b[0m\n\u001b[0m",
      "\u001b[0;31mTypeError\u001b[0m: 'set' object is not subscriptable"
     ]
    }
   ],
   "source": [
    "s = {1, 2, 3}\n",
    "s[0]"
   ]
  },
  {
   "cell_type": "code",
   "execution_count": 13,
   "id": "c6411a41-a5dc-4355-af3d-05bb7730bc52",
   "metadata": {},
   "outputs": [
    {
     "data": {
      "text/plain": [
       "True"
      ]
     },
     "execution_count": 13,
     "metadata": {},
     "output_type": "execute_result"
    }
   ],
   "source": [
    "s = {1, 2, 3}\n",
    "2 in s"
   ]
  },
  {
   "cell_type": "code",
   "execution_count": 14,
   "id": "9f80aafb-bdcd-4e0e-a940-fbf8074780eb",
   "metadata": {},
   "outputs": [
    {
     "data": {
      "text/plain": [
       "False"
      ]
     },
     "execution_count": 14,
     "metadata": {},
     "output_type": "execute_result"
    }
   ],
   "source": [
    "d = {'name': 'liyilong', 'age': 20}\n",
    "'location' in d"
   ]
  },
  {
   "cell_type": "markdown",
   "id": "2e8a096b-5340-48d1-b489-3c1b8ef33010",
   "metadata": {},
   "source": [
    "字典和集合同样支持增加、删除、更新等操作"
   ]
  },
  {
   "cell_type": "code",
   "execution_count": 4,
   "id": "f79d543c-47b9-4177-ae9c-f4f6087a6017",
   "metadata": {},
   "outputs": [
    {
     "data": {
      "text/plain": [
       "{'name': 'jason', 'age': 20, 'gender': 'male', 'dob': '1999-02-01'}"
      ]
     },
     "execution_count": 4,
     "metadata": {},
     "output_type": "execute_result"
    }
   ],
   "source": [
    "d = {'name': 'jason', 'age': 20}\n",
    "d['gender'] = 'male' # 增加元素对'gender': 'male'\n",
    "d['dob'] = '1999-02-01' # 增加元素对'dob': '1999-02-01'\n",
    "d"
   ]
  },
  {
   "cell_type": "code",
   "execution_count": 5,
   "id": "b709e581-9b05-427c-9d87-087ee2f4f766",
   "metadata": {},
   "outputs": [
    {
     "data": {
      "text/plain": [
       "'1999-02-01'"
      ]
     },
     "execution_count": 5,
     "metadata": {},
     "output_type": "execute_result"
    }
   ],
   "source": [
    "d.pop('dob') # 删除键为dob的元素对, 返回的是删除的值"
   ]
  },
  {
   "cell_type": "code",
   "execution_count": 6,
   "id": "d8d2006a-0f7e-4270-aa4a-d570381f605b",
   "metadata": {},
   "outputs": [
    {
     "data": {
      "text/plain": [
       "{'name': 'jason', 'age': 20, 'gender': 'male'}"
      ]
     },
     "execution_count": 6,
     "metadata": {},
     "output_type": "execute_result"
    }
   ],
   "source": [
    "d"
   ]
  },
  {
   "cell_type": "code",
   "execution_count": 21,
   "id": "238d8fdb-b7e4-4f2d-a25d-762748930560",
   "metadata": {},
   "outputs": [
    {
     "data": {
      "text/plain": [
       "{1, 2, 3, 4}"
      ]
     },
     "execution_count": 21,
     "metadata": {},
     "output_type": "execute_result"
    }
   ],
   "source": [
    "# 集合添加元素\n",
    "s = {1, 2, 3}\n",
    "s.add(4)\n",
    "s"
   ]
  },
  {
   "cell_type": "code",
   "execution_count": 22,
   "id": "5e0200ea-00b7-4385-9a49-513539a81eb0",
   "metadata": {},
   "outputs": [],
   "source": [
    "s.add(4)"
   ]
  },
  {
   "cell_type": "code",
   "execution_count": 23,
   "id": "534f0639-bc0e-492c-9a75-dd9d2ff040f8",
   "metadata": {},
   "outputs": [
    {
     "data": {
      "text/plain": [
       "{1, 2, 3}"
      ]
     },
     "execution_count": 23,
     "metadata": {},
     "output_type": "execute_result"
    }
   ],
   "source": [
    "s.remove(4)\n",
    "s"
   ]
  },
  {
   "cell_type": "code",
   "execution_count": 20,
   "id": "8e265266-5225-4337-a26b-a2af7fa37d78",
   "metadata": {},
   "outputs": [
    {
     "data": {
      "text/plain": [
       "2"
      ]
     },
     "execution_count": 20,
     "metadata": {},
     "output_type": "execute_result"
    }
   ],
   "source": [
    "s.pop() # 集合也可以用pop()来删除，但集合本身是无序的，无法确定被删除的是哪个元素"
   ]
  },
  {
   "cell_type": "markdown",
   "id": "d52eb563-e0c8-4c9b-8b31-c0f72265b244",
   "metadata": {},
   "source": [
    "### 字典和集合的排序"
   ]
  },
  {
   "cell_type": "code",
   "execution_count": 24,
   "id": "62865571-931a-44b1-8113-77d622695021",
   "metadata": {},
   "outputs": [
    {
     "data": {
      "text/plain": [
       "[('a', 2), ('b', 1), ('c', 10)]"
      ]
     },
     "execution_count": 24,
     "metadata": {},
     "output_type": "execute_result"
    }
   ],
   "source": [
    "d = {'b': 1, 'a': 2, 'c': 10}\n",
    "d_sorted_by_key = sorted(d.items(), key=lambda x: x[0]) # 根据字典键的升序排列\n",
    "d_sorted_by_key"
   ]
  },
  {
   "cell_type": "code",
   "execution_count": 25,
   "id": "746dcace-e8bd-4bed-ab31-6576ea3f006d",
   "metadata": {},
   "outputs": [
    {
     "data": {
      "text/plain": [
       "[('b', 1), ('a', 2), ('c', 10)]"
      ]
     },
     "execution_count": 25,
     "metadata": {},
     "output_type": "execute_result"
    }
   ],
   "source": [
    "d_sorted_by_value = sorted(d.items(), key=lambda x: x[1]) # 根据字典值升序排列\n",
    "d_sorted_by_value"
   ]
  },
  {
   "cell_type": "code",
   "execution_count": 26,
   "id": "bc5b7313-bfcc-4ccd-9d23-e39ddf91e986",
   "metadata": {},
   "outputs": [
    {
     "data": {
      "text/plain": [
       "[1, 2, 3, 4]"
      ]
     },
     "execution_count": 26,
     "metadata": {},
     "output_type": "execute_result"
    }
   ],
   "source": [
    "# 对于集合而言，直接调用sorted(set)即可，与列表、元组很类似\n",
    "s = {3, 4, 2, 1}\n",
    "sorted(s) # 对集合的元素进行升序排列"
   ]
  }
 ],
 "metadata": {
  "kernelspec": {
   "display_name": "Python 3 (ipykernel)",
   "language": "python",
   "name": "python3"
  },
  "language_info": {
   "codemirror_mode": {
    "name": "ipython",
    "version": 3
   },
   "file_extension": ".py",
   "mimetype": "text/x-python",
   "name": "python",
   "nbconvert_exporter": "python",
   "pygments_lexer": "ipython3",
   "version": "3.7.10"
  },
  "toc-showcode": false
 },
 "nbformat": 4,
 "nbformat_minor": 5
}
