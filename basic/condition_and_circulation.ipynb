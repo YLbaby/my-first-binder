{
 "cells": [
  {
   "cell_type": "markdown",
   "id": "a23fa64b-de16-4d18-8664-4eff329c9f26",
   "metadata": {},
   "source": [
    "* String: 空字符串解析为False, 其余为True\n",
    "* Int: 0解析为False, 其余为True\n",
    "* Bool: True为True, False为False\n",
    "* list/tuple/dict/set: Iterable为空解析为False, 其余为True\n",
    "* Object: None解析为False, 其余为True"
   ]
  },
  {
   "cell_type": "code",
   "execution_count": 3,
   "id": "91789201-7b63-41fc-8270-48dbdc8f8c04",
   "metadata": {},
   "outputs": [
    {
     "name": "stdout",
     "output_type": "stream",
     "text": [
      "1\n"
     ]
    }
   ],
   "source": [
    "s = ''\n",
    "if not s:\n",
    "    print(1)"
   ]
  },
  {
   "cell_type": "markdown",
   "id": "0e097b6f-b0f4-469b-a69b-b6c86f87c228",
   "metadata": {},
   "source": [
    "Python中的数据结构只要是iterable，比如列表、集合等，那么都可以通过下面这种方式遍历"
   ]
  },
  {
   "cell_type": "code",
   "execution_count": null,
   "id": "e4136c1e-036e-4da9-bfe3-93dff1f2fa59",
   "metadata": {},
   "outputs": [],
   "source": [
    "l = [1, 2, 3, 4]\n",
    "for item in l:\n",
    "    print(item)"
   ]
  },
  {
   "cell_type": "markdown",
   "id": "841aa224-3571-4e34-ab7d-bed31fa47217",
   "metadata": {},
   "source": [
    "**比较特殊的是字典。字典本身只有键是可迭代的, 如果要遍历它的值或者是键值对，需要通过内置的函数values()或者items()实现**"
   ]
  },
  {
   "cell_type": "code",
   "execution_count": 5,
   "id": "0d1b854b-2022-4a25-9a57-a6c91dfdca15",
   "metadata": {},
   "outputs": [
    {
     "name": "stdout",
     "output_type": "stream",
     "text": [
      "name\n",
      "dob\n",
      "gender\n"
     ]
    }
   ],
   "source": [
    "d = {'name': 'json', 'dob': '2000-01-01', 'gender': 'male'}\n",
    "for k in d:\n",
    "    print(k)"
   ]
  },
  {
   "cell_type": "code",
   "execution_count": 6,
   "id": "3c1669e0-8ea4-48d7-af4a-7df0e476b1ae",
   "metadata": {},
   "outputs": [
    {
     "name": "stdout",
     "output_type": "stream",
     "text": [
      "json\n",
      "2000-01-01\n",
      "male\n"
     ]
    }
   ],
   "source": [
    "for v in d.values(): # 遍历字典的值\n",
    "    print(v)"
   ]
  },
  {
   "cell_type": "code",
   "execution_count": 7,
   "id": "b80ccab2-f968-49be-ab0f-cdcd42e568ee",
   "metadata": {},
   "outputs": [
    {
     "name": "stdout",
     "output_type": "stream",
     "text": [
      "key: name, value: json\n",
      "key: dob, value: 2000-01-01\n",
      "key: gender, value: male\n"
     ]
    }
   ],
   "source": [
    "for k, v in d.items():\n",
    "    print('key: {}, value: {}'.format(k, v))"
   ]
  },
  {
   "cell_type": "code",
   "execution_count": 8,
   "id": "24ad87c2-2dca-4334-9b26-ad5084369d57",
   "metadata": {},
   "outputs": [
    {
     "name": "stdout",
     "output_type": "stream",
     "text": [
      "1\n",
      "2\n",
      "3\n",
      "4\n",
      "5\n"
     ]
    }
   ],
   "source": [
    "l = [1, 2, 3, 4, 5, 6, 7]\n",
    "for index in range(0, len(l)):\n",
    "    if index < 5:\n",
    "        print(l[index])"
   ]
  },
  {
   "cell_type": "markdown",
   "id": "1b8eeaba-a5a7-4a1e-9a81-06e0a1a53793",
   "metadata": {},
   "source": [
    "**当同时需要索引和元素时，一种更为简洁的方式是Python内置的函数enumerate()**"
   ]
  },
  {
   "cell_type": "code",
   "execution_count": 9,
   "id": "e2342543-adfb-42cb-8cd2-81715f6aad50",
   "metadata": {},
   "outputs": [
    {
     "name": "stdout",
     "output_type": "stream",
     "text": [
      "1\n",
      "2\n",
      "3\n",
      "4\n",
      "5\n"
     ]
    }
   ],
   "source": [
    "l = [1, 2, 3, 4, 5, 6, 7]\n",
    "for index, item in enumerate(l):\n",
    "    if index < 5:\n",
    "        print(item)"
   ]
  },
  {
   "cell_type": "code",
   "execution_count": null,
   "id": "de7920e4-5230-4f49-8ce0-c1712ee55f2e",
   "metadata": {},
   "outputs": [],
   "source": [
    "for name, price in name_price.items():\n",
    "    if price >= 1000:\n",
    "        continue\n",
    "    if name not in name_color:\n",
    "        continue\n",
    "    for color in name_color[name]:\n",
    "        if color == 'red':\n",
    "            continue\n",
    "        print('name: {}, color: {}'.format(name, color))"
   ]
  },
  {
   "cell_type": "markdown",
   "id": "c5e12879-cd9f-4b39-bfe3-e81f7f74d2ff",
   "metadata": {},
   "source": [
    "### 条件与循环的复用"
   ]
  },
  {
   "cell_type": "markdown",
   "id": "98dd98bf-ffb2-46af-a4aa-f5867d734120",
   "metadata": {},
   "source": [
    "```python\n",
    "expression1 if condition else expression2 for item in iterable\n",
    "```\n",
    "相当于\n",
    "```python\n",
    "for item in iterable\n",
    "    if condition:\n",
    "        expression1\n",
    "    else:\n",
    "        expression2\n",
    "```\n",
    "\n",
    "若没有else语句，需要写成如下\n",
    "```python\n",
    "expression for item in iterable if condition\n",
    "```"
   ]
  },
  {
   "cell_type": "markdown",
   "id": "1724abf1-5e9d-4e3c-94ee-a89b714eedf4",
   "metadata": {},
   "source": [
    "---\n",
    "绘制$y=2*\\lvert x \\rvert+5$的图像，给定x，需要计算y的数据集合"
   ]
  },
  {
   "cell_type": "code",
   "execution_count": 7,
   "id": "6982889b-1f39-4eb9-952e-742f29b7abcf",
   "metadata": {},
   "outputs": [
    {
     "data": {
      "text/plain": [
       "[13, 11, 9, 7, 7, 9, 11, 13, 15, 17, 19, 21, 23]"
      ]
     },
     "execution_count": 7,
     "metadata": {},
     "output_type": "execute_result"
    }
   ],
   "source": [
    "x = [-4, -3, -2, -1, 1, 2, 3, 4, 5, 6, 7, 8, 9]\n",
    "y = [value * 2 + 5 if value > 0 else -value * 2 + 5 for value in x]\n",
    "y"
   ]
  },
  {
   "cell_type": "markdown",
   "id": "3c1eae62-0d2c-47e0-afdf-3775f3595d63",
   "metadata": {},
   "source": [
    "将文件中逐行读取的一个完整语句，按逗号分割单词，去掉首位的空字符，并过滤掉长度小于等于 3 的单词，最后返回由单词组成的列表。"
   ]
  },
  {
   "cell_type": "code",
   "execution_count": 9,
   "id": "45db8547-6a82-46c3-82b9-8dbf09582dca",
   "metadata": {},
   "outputs": [
    {
     "data": {
      "text/plain": [
       "['Today', 'Thursday']"
      ]
     },
     "execution_count": 9,
     "metadata": {},
     "output_type": "execute_result"
    }
   ],
   "source": [
    "text = '  Today, is, Thursday   '\n",
    "text_list = [s.strip() for s in text.split(',') if len(s.strip()) > 3]\n",
    "text_list"
   ]
  },
  {
   "cell_type": "markdown",
   "id": "898091b0-ce47-486e-a657-3a6a4c1a0db1",
   "metadata": {},
   "source": [
    "复用并不局限于一个循环，也可以写成如下\n",
    "```python\n",
    "[(xx, yy) for xx in x for yy in y if xx != yy]\n",
    "```\n",
    "相当于\n",
    "```python\n",
    "l = []\n",
    "for xx in x:\n",
    "    for yy in y:\n",
    "        if xx != yy:\n",
    "            l.append((xx, yy))\n",
    "```"
   ]
  },
  {
   "cell_type": "markdown",
   "id": "42adb512-cdb4-48c2-a2f8-ed54bf879b07",
   "metadata": {},
   "source": [
    "### 思考题\n",
    "给定下面两个列表 attributes 和 values，要求针对 values 中每一组子列表 value，输出其和 attributes 中的键对应后的字典，最后返回字典组成的列表。"
   ]
  },
  {
   "cell_type": "code",
   "execution_count": 5,
   "id": "2f40c5cf-ead6-4450-bb42-0c4a1c2483d9",
   "metadata": {},
   "outputs": [
    {
     "data": {
      "text/plain": [
       "[{'name': 'jason', 'dob': '2000-01-01', 'gender': 'male'},\n",
       " {'name': 'mike', 'dob': '1999-01-01', 'gender': 'male'},\n",
       " {'name': 'nancy', 'dob': '2001-02-01', 'gender': 'female'}]"
      ]
     },
     "execution_count": 5,
     "metadata": {},
     "output_type": "execute_result"
    }
   ],
   "source": [
    "attributes = ['name', 'dob', 'gender']\n",
    "values = [['jason', '2000-01-01', 'male'],\n",
    "          ['mike', '1999-01-01', 'male'],\n",
    "          ['nancy', '2001-02-01', 'female']]\n",
    "\n",
    "# 一行实现\n",
    "answer = [dict(zip(attributes, value)) for value in values]\n",
    "answer"
   ]
  },
  {
   "cell_type": "code",
   "execution_count": 8,
   "id": "10f7cfcf-aac9-4c9c-899d-c129c1c55a4e",
   "metadata": {},
   "outputs": [
    {
     "data": {
      "text/plain": [
       "{1: 'lyl', 2: 'lxd'}"
      ]
     },
     "execution_count": 8,
     "metadata": {},
     "output_type": "execute_result"
    }
   ],
   "source": [
    "tp = (1, 2)\n",
    "l = ['lyl', 'lxd']\n",
    "dict(zip(tp, l))"
   ]
  },
  {
   "cell_type": "code",
   "execution_count": null,
   "id": "5dee435d-592d-4794-8138-27a96a7b7fe7",
   "metadata": {},
   "outputs": [],
   "source": []
  }
 ],
 "metadata": {
  "kernelspec": {
   "display_name": "Python 3 (ipykernel)",
   "language": "python",
   "name": "python3"
  },
  "language_info": {
   "codemirror_mode": {
    "name": "ipython",
    "version": 3
   },
   "file_extension": ".py",
   "mimetype": "text/x-python",
   "name": "python",
   "nbconvert_exporter": "python",
   "pygments_lexer": "ipython3",
   "version": "3.7.10"
  }
 },
 "nbformat": 4,
 "nbformat_minor": 5
}
