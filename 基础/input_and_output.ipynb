{
 "cells": [
  {
   "cell_type": "markdown",
   "id": "82ead9ad-8f9e-42ed-8ded-83c005ce3d5d",
   "metadata": {},
   "source": [
    "### 文本的输入输出"
   ]
  },
  {
   "cell_type": "code",
   "execution_count": 1,
   "id": "bb12f9bf-ec7b-45fa-a371-d1f442e2c037",
   "metadata": {},
   "outputs": [],
   "source": [
    "import sys\n",
    "sys.path.append('../')"
   ]
  },
  {
   "cell_type": "code",
   "execution_count": 2,
   "id": "cb62dcc6-69de-42a8-b0bf-e8937ec09c96",
   "metadata": {},
   "outputs": [],
   "source": [
    "import re"
   ]
  },
  {
   "cell_type": "code",
   "execution_count": 3,
   "id": "c92bb99c-9ff4-4cc7-96e2-c2e8fc2e1ddf",
   "metadata": {},
   "outputs": [],
   "source": [
    "# 了解即可\n",
    "def parse(text):\n",
    "    # 使用正则表达式去除标点符号和换行符\n",
    "    text = re.sub(r'[^\\w ]', ' ', text)\n",
    "    \n",
    "    # 转为小写\n",
    "    text = text.lower()\n",
    "    \n",
    "    # 生成所有单词的列表\n",
    "    word_list = text.split(' ')\n",
    "    \n",
    "    # 去除空白单词\n",
    "    word_list = filter(None, word_list)\n",
    "    \n",
    "    # 生成单词和词频的字典\n",
    "    word_cnt = {}\n",
    "    for word in word_list:\n",
    "        if word not in word_cnt:\n",
    "            word_cnt[word] = 0\n",
    "        word_cnt[word] += 1\n",
    "    \n",
    "    # 按照词频排序\n",
    "    sorted_word_cnt = sorted(word_cnt.items(), key=lambda kv: kv[1], reverse=True)\n",
    "    return sorted_word_cnt"
   ]
  },
  {
   "cell_type": "code",
   "execution_count": 4,
   "id": "ce97f3c0-df7e-468d-9350-907e4a3db7de",
   "metadata": {},
   "outputs": [],
   "source": [
    "with open('in.txt', 'r') as fin:\n",
    "    text = fin.read()"
   ]
  },
  {
   "cell_type": "code",
   "execution_count": 5,
   "id": "136a68c2-eb52-436e-b05f-e0de408aef15",
   "metadata": {},
   "outputs": [],
   "source": [
    "word_and_freq = parse(text)"
   ]
  },
  {
   "cell_type": "code",
   "execution_count": 6,
   "id": "7ef16a4c-cda4-48f2-891e-2ccd533528e7",
   "metadata": {},
   "outputs": [],
   "source": [
    "with open('out.txt', 'w') as fout:\n",
    "    for word, freq in word_and_freq:\n",
    "        fout.write('{} {}\\n'.format(word, freq))"
   ]
  },
  {
   "cell_type": "code",
   "execution_count": null,
   "id": "6a07326a-bc76-4fc6-826a-495e7983e1be",
   "metadata": {},
   "outputs": [],
   "source": []
  }
 ],
 "metadata": {
  "kernelspec": {
   "display_name": "Python 3 (ipykernel)",
   "language": "python",
   "name": "python3"
  },
  "language_info": {
   "codemirror_mode": {
    "name": "ipython",
    "version": 3
   },
   "file_extension": ".py",
   "mimetype": "text/x-python",
   "name": "python",
   "nbconvert_exporter": "python",
   "pygments_lexer": "ipython3",
   "version": "3.7.10"
  }
 },
 "nbformat": 4,
 "nbformat_minor": 5
}
