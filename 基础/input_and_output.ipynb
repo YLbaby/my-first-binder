{
 "cells": [
  {
   "cell_type": "markdown",
   "id": "82ead9ad-8f9e-42ed-8ded-83c005ce3d5d",
   "metadata": {},
   "source": [
    "### 文本的输入输出"
   ]
  },
  {
   "cell_type": "code",
   "execution_count": 1,
   "id": "bb12f9bf-ec7b-45fa-a371-d1f442e2c037",
   "metadata": {},
   "outputs": [],
   "source": [
    "import sys\n",
    "sys.path.append('../')"
   ]
  },
  {
   "cell_type": "code",
   "execution_count": 2,
   "id": "cb62dcc6-69de-42a8-b0bf-e8937ec09c96",
   "metadata": {},
   "outputs": [],
   "source": [
    "import re"
   ]
  },
  {
   "cell_type": "code",
   "execution_count": 3,
   "id": "c92bb99c-9ff4-4cc7-96e2-c2e8fc2e1ddf",
   "metadata": {},
   "outputs": [],
   "source": [
    "# 了解即可\n",
    "def parse(text):\n",
    "    # 使用正则表达式去除标点符号和换行符\n",
    "    text = re.sub(r'[^\\w ]', ' ', text)\n",
    "    \n",
    "    # 转为小写\n",
    "    text = text.lower()\n",
    "    \n",
    "    # 生成所有单词的列表\n",
    "    word_list = text.split(' ')\n",
    "    \n",
    "    # 去除空白单词\n",
    "    word_list = filter(None, word_list)\n",
    "    \n",
    "    # 生成单词和词频的字典\n",
    "    word_cnt = {}\n",
    "    for word in word_list:\n",
    "        if word not in word_cnt:\n",
    "            word_cnt[word] = 0\n",
    "        word_cnt[word] += 1\n",
    "    \n",
    "    # 按照词频排序\n",
    "    sorted_word_cnt = sorted(word_cnt.items(), key=lambda kv: kv[1], reverse=True)\n",
    "    return sorted_word_cnt"
   ]
  },
  {
   "cell_type": "code",
   "execution_count": 4,
   "id": "ce97f3c0-df7e-468d-9350-907e4a3db7de",
   "metadata": {},
   "outputs": [],
   "source": [
    "with open('in.txt', 'r') as fin:\n",
    "    text = fin.read()"
   ]
  },
  {
   "cell_type": "code",
   "execution_count": 5,
   "id": "136a68c2-eb52-436e-b05f-e0de408aef15",
   "metadata": {},
   "outputs": [],
   "source": [
    "word_and_freq = parse(text)"
   ]
  },
  {
   "cell_type": "code",
   "execution_count": 6,
   "id": "7ef16a4c-cda4-48f2-891e-2ccd533528e7",
   "metadata": {},
   "outputs": [],
   "source": [
    "with open('out.txt', 'w') as fout:\n",
    "    for word, freq in word_and_freq:\n",
    "        fout.write('{} {}\\n'.format(word, freq))"
   ]
  },
  {
   "cell_type": "markdown",
   "id": "aeffb4be-49e9-4533-8dbc-79761ce2d4e3",
   "metadata": {},
   "source": [
    "### JSON序列化\n",
    "接受Python的基本数据雷顷，然后将其序列化为string"
   ]
  },
  {
   "cell_type": "code",
   "execution_count": 1,
   "id": "715e970b-d4e9-46b2-9af6-af16373a1f4f",
   "metadata": {},
   "outputs": [],
   "source": [
    "import json"
   ]
  },
  {
   "cell_type": "code",
   "execution_count": 2,
   "id": "e2c1b959-dd02-42e7-a05b-ac766d5a0184",
   "metadata": {},
   "outputs": [
    {
     "name": "stdout",
     "output_type": "stream",
     "text": [
      "after json serialization\n",
      "type of params_str = <class 'str'>, params_str = {\"symbol\": \"123456\", \"type\": \"limit\", \"price\": 123.4, \"amount\": 23}\n"
     ]
    }
   ],
   "source": [
    "params = {\n",
    "    'symbol': '123456',\n",
    "    'type': 'limit',\n",
    "    'price': 123.4,\n",
    "    'amount': 23\n",
    "}\n",
    "\n",
    "params_str = json.dumps(params)\n",
    "\n",
    "print('after json serialization')\n",
    "print('type of params_str = {}, params_str = {}'.format(type(params_str), params_str))"
   ]
  },
  {
   "cell_type": "markdown",
   "id": "80476cd6-2a05-49b7-9236-9e427a09b057",
   "metadata": {},
   "source": [
    "### 反序列化\n",
    "接受一个合法字符串，然后将其反序列化为Python的基本数据类型"
   ]
  },
  {
   "cell_type": "code",
   "execution_count": 4,
   "id": "a29b7d88-96d8-4b74-9e06-7acf1ce8cc12",
   "metadata": {},
   "outputs": [
    {
     "name": "stdout",
     "output_type": "stream",
     "text": [
      "after json deserialization\n",
      "type of original_params = <class 'dict'>, original_params = {'symbol': '123456', 'type': 'limit', 'price': 123.4, 'amount': 23}\n"
     ]
    }
   ],
   "source": [
    "original_params = json.loads(params_str)\n",
    "\n",
    "print('after json deserialization')\n",
    "print('type of original_params = {}, original_params = {}'.format(type(original_params), original_params))"
   ]
  },
  {
   "cell_type": "code",
   "execution_count": 5,
   "id": "32da6589-7c96-485b-9d5a-5148ec9c98a7",
   "metadata": {},
   "outputs": [],
   "source": [
    "with open('params.json', 'w') as fout:\n",
    "    params_str = json.dump(params, fout)  # dump用于文件句柄 dumps用于内存对象    "
   ]
  },
  {
   "cell_type": "code",
   "execution_count": 8,
   "id": "bfabe8ca-3270-4fdd-9f34-90d1220caf99",
   "metadata": {},
   "outputs": [
    {
     "name": "stdout",
     "output_type": "stream",
     "text": [
      "type of original_params=<class 'dict'>, original_params={'symbol': '123456', 'type': 'limit', 'price': 123.4, 'amount': 23}\n"
     ]
    }
   ],
   "source": [
    "with open('params.json', 'r') as fin:\n",
    "    original_params = json.load(fin)  # load用于文件句柄 loads用于内存对象\n",
    "print('type of original_params={}, original_params={}'.format(type(original_params), original_params))"
   ]
  },
  {
   "cell_type": "code",
   "execution_count": null,
   "id": "da176694-e3da-42b5-b94d-8c82c66859fe",
   "metadata": {},
   "outputs": [],
   "source": []
  }
 ],
 "metadata": {
  "kernelspec": {
   "display_name": "Python 3 (ipykernel)",
   "language": "python",
   "name": "python3"
  },
  "language_info": {
   "codemirror_mode": {
    "name": "ipython",
    "version": 3
   },
   "file_extension": ".py",
   "mimetype": "text/x-python",
   "name": "python",
   "nbconvert_exporter": "python",
   "pygments_lexer": "ipython3",
   "version": "3.7.10"
  }
 },
 "nbformat": 4,
 "nbformat_minor": 5
}
