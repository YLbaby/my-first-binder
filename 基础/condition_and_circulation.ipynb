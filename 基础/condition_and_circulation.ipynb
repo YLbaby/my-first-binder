{
 "cells": [
  {
   "cell_type": "markdown",
   "id": "a23fa64b-de16-4d18-8664-4eff329c9f26",
   "metadata": {},
   "source": [
    "* String: 空字符串解析为False, 其余为True\n",
    "* Int: 0解析为False, 其余为True\n",
    "* Bool: True为True, False为False\n",
    "* list/tuple/dict/set: Iterable为空解析为False, 其余为True\n",
    "* Object: None解析为False, 其余为True"
   ]
  },
  {
   "cell_type": "code",
   "execution_count": 3,
   "id": "91789201-7b63-41fc-8270-48dbdc8f8c04",
   "metadata": {},
   "outputs": [
    {
     "name": "stdout",
     "output_type": "stream",
     "text": [
      "1\n"
     ]
    }
   ],
   "source": [
    "s = ''\n",
    "if not s:\n",
    "    print(1)"
   ]
  },
  {
   "cell_type": "markdown",
   "id": "0e097b6f-b0f4-469b-a69b-b6c86f87c228",
   "metadata": {},
   "source": [
    "Python中的数据结构只要是iterable，比如列表、集合等，那么都可以通过下面这种方式遍历"
   ]
  },
  {
   "cell_type": "code",
   "execution_count": null,
   "id": "e4136c1e-036e-4da9-bfe3-93dff1f2fa59",
   "metadata": {},
   "outputs": [],
   "source": [
    "l = [1, 2, 3, 4]\n",
    "for item in l:\n",
    "    print(item)"
   ]
  },
  {
   "cell_type": "markdown",
   "id": "841aa224-3571-4e34-ab7d-bed31fa47217",
   "metadata": {},
   "source": [
    "**比较特殊的是字典。字典本身只有键是可迭代的, 如果要遍历它的值或者是键值对，需要通过内置的函数values()或者items()实现**"
   ]
  },
  {
   "cell_type": "code",
   "execution_count": 5,
   "id": "0d1b854b-2022-4a25-9a57-a6c91dfdca15",
   "metadata": {},
   "outputs": [
    {
     "name": "stdout",
     "output_type": "stream",
     "text": [
      "name\n",
      "dob\n",
      "gender\n"
     ]
    }
   ],
   "source": [
    "d = {'name': 'json', 'dob': '2000-01-01', 'gender': 'male'}\n",
    "for k in d:\n",
    "    print(k)"
   ]
  },
  {
   "cell_type": "code",
   "execution_count": 6,
   "id": "3c1669e0-8ea4-48d7-af4a-7df0e476b1ae",
   "metadata": {},
   "outputs": [
    {
     "name": "stdout",
     "output_type": "stream",
     "text": [
      "json\n",
      "2000-01-01\n",
      "male\n"
     ]
    }
   ],
   "source": [
    "for v in d.values(): # 遍历字典的值\n",
    "    print(v)"
   ]
  },
  {
   "cell_type": "code",
   "execution_count": 7,
   "id": "b80ccab2-f968-49be-ab0f-cdcd42e568ee",
   "metadata": {},
   "outputs": [
    {
     "name": "stdout",
     "output_type": "stream",
     "text": [
      "key: name, value: json\n",
      "key: dob, value: 2000-01-01\n",
      "key: gender, value: male\n"
     ]
    }
   ],
   "source": [
    "for k, v in d.items():\n",
    "    print('key: {}, value: {}'.format(k, v))"
   ]
  },
  {
   "cell_type": "code",
   "execution_count": 8,
   "id": "24ad87c2-2dca-4334-9b26-ad5084369d57",
   "metadata": {},
   "outputs": [
    {
     "name": "stdout",
     "output_type": "stream",
     "text": [
      "1\n",
      "2\n",
      "3\n",
      "4\n",
      "5\n"
     ]
    }
   ],
   "source": [
    "l = [1, 2, 3, 4, 5, 6, 7]\n",
    "for index in range(0, len(l)):\n",
    "    if index < 5:\n",
    "        print(l[index])"
   ]
  },
  {
   "cell_type": "markdown",
   "id": "1b8eeaba-a5a7-4a1e-9a81-06e0a1a53793",
   "metadata": {},
   "source": [
    "当同时需要索引和元素时，一种更为简洁的方式是Python内置的函数enumerate()"
   ]
  },
  {
   "cell_type": "code",
   "execution_count": 9,
   "id": "e2342543-adfb-42cb-8cd2-81715f6aad50",
   "metadata": {},
   "outputs": [
    {
     "name": "stdout",
     "output_type": "stream",
     "text": [
      "1\n",
      "2\n",
      "3\n",
      "4\n",
      "5\n"
     ]
    }
   ],
   "source": [
    "l = [1, 2, 3, 4, 5, 6, 7]\n",
    "for index, item in enumerate(l):\n",
    "    if index < 5:\n",
    "        print(item)"
   ]
  },
  {
   "cell_type": "code",
   "execution_count": null,
   "id": "de7920e4-5230-4f49-8ce0-c1712ee55f2e",
   "metadata": {},
   "outputs": [],
   "source": [
    "for name, price in name_price.items():\n",
    "    if price >= 1000:\n",
    "        continue\n",
    "    if name not in name_color:\n",
    "        continue\n",
    "    for color in name_color[name]:\n",
    "        if color == 'red':\n",
    "            continue\n",
    "        print('name: {}, color: {}'.format(name, color))"
   ]
  }
 ],
 "metadata": {
  "kernelspec": {
   "display_name": "Python 3 (ipykernel)",
   "language": "python",
   "name": "python3"
  },
  "language_info": {
   "codemirror_mode": {
    "name": "ipython",
    "version": 3
   },
   "file_extension": ".py",
   "mimetype": "text/x-python",
   "name": "python",
   "nbconvert_exporter": "python",
   "pygments_lexer": "ipython3",
   "version": "3.7.10"
  }
 },
 "nbformat": 4,
 "nbformat_minor": 5
}
